{
 "cells": [
  {
   "cell_type": "markdown",
   "metadata": {},
   "source": [
    "## Requirements\n",
    "\n",
    "- read a post by id and display the title and body on separate lines.\n",
    "- create a post where the title and body are command line arguments\n",
    "- update the title and body of a post by post id\n",
    "\n",
    "## API Document\n",
    "\n",
    "https://jsonplaceholder.typicode.com/"
   ]
  },
  {
   "cell_type": "code",
   "execution_count": 130,
   "metadata": {
    "collapsed": true
   },
   "outputs": [],
   "source": [
    "import requests"
   ]
  },
  {
   "cell_type": "code",
   "execution_count": 131,
   "metadata": {
    "collapsed": true
   },
   "outputs": [],
   "source": [
    "API = 'http://jsonplaceholder.typicode.com/posts'"
   ]
  },
  {
   "cell_type": "code",
   "execution_count": 146,
   "metadata": {
    "collapsed": true
   },
   "outputs": [],
   "source": [
    "def check_post_id(post_id):\n",
    "    if post_id is None:\n",
    "        return False\n",
    "    try:\n",
    "        post_id = int(post_id)\n",
    "        return post_id\n",
    "    except ValueError:\n",
    "        return False\n",
    "\n",
    "def get_post(post_id):\n",
    "    \"Get post title and body by id of the post\"\n",
    "    if not check_post_id(post_id):\n",
    "        print \"Please enter a number\"\n",
    "        return 1\n",
    "    \n",
    "    resp = requests.get(\"{}/{}\".format(API, post_id))\n",
    "    \n",
    "    if resp.status_code == 200:\n",
    "        print resp.json()['title']\n",
    "        print \"\\n\"\n",
    "        print resp.json()['body']\n",
    "    elif resp.status_code == 404:\n",
    "        print \"Post id {} was not found\".format(post_id)\n",
    "    else:\n",
    "        print \"Something went wrong\"\n",
    "\n",
    "\n",
    "def create_post(post_content):\n",
    "    \"Create post with title & body\"\n",
    "    resp = requests.post(API, data=post_content)\n",
    "    if resp.status_code == 201:\n",
    "        print \"Post is created\"\n",
    "    else:\n",
    "        print \"Something went wrong\"\n",
    "\n",
    "def update_post(post_id, post_content):\n",
    "    \"Update an existing post by post id\"\n",
    "    if not check_post_id(post_id):\n",
    "        print \"Please enter a number\"\n",
    "        return 1\n",
    "    \n",
    "    resp = requests.put(\"{}/{}\".format(API, post_id), post_content)\n",
    "    \n",
    "    if resp.status_code == 200:\n",
    "        print \"Post id {} was updated\".format(post_id)\n",
    "    elif resp.status_code == 404:\n",
    "        print \"Post id {} was not found\".format(post_id)\n",
    "    else:\n",
    "        print \"Something went wrong\"\n",
    "    \n"
   ]
  },
  {
   "cell_type": "code",
   "execution_count": 141,
   "metadata": {
    "collapsed": false
   },
   "outputs": [
    {
     "name": "stdout",
     "output_type": "stream",
     "text": [
      "sunt aut facere repellat provident occaecati excepturi optio reprehenderit\n",
      "\n",
      "\n",
      "quia et suscipit\n",
      "suscipit recusandae consequuntur expedita et cum\n",
      "reprehenderit molestiae ut ut quas totam\n",
      "nostrum rerum est autem sunt rem eveniet architecto\n"
     ]
    }
   ],
   "source": [
    "## Get post content\n",
    "get_post(1)"
   ]
  },
  {
   "cell_type": "code",
   "execution_count": 142,
   "metadata": {
    "collapsed": false
   },
   "outputs": [
    {
     "name": "stdout",
     "output_type": "stream",
     "text": [
      "Post id 10000 not found\n"
     ]
    }
   ],
   "source": [
    "get_post(10000)"
   ]
  },
  {
   "cell_type": "code",
   "execution_count": 143,
   "metadata": {
    "collapsed": false
   },
   "outputs": [
    {
     "name": "stdout",
     "output_type": "stream",
     "text": [
      "Post is created\n"
     ]
    }
   ],
   "source": [
    "## Create post\n",
    "post_content = {\n",
    "    'title': 'post-1',\n",
    "    'body': 'post-1'\n",
    "}\n",
    "\n",
    "create_post(post_content)"
   ]
  },
  {
   "cell_type": "code",
   "execution_count": 144,
   "metadata": {
    "collapsed": false
   },
   "outputs": [
    {
     "name": "stdout",
     "output_type": "stream",
     "text": [
      "Post id 1 was updated\n"
     ]
    }
   ],
   "source": [
    "### Update post\n",
    "update_post(1, post_content)"
   ]
  },
  {
   "cell_type": "code",
   "execution_count": 145,
   "metadata": {
    "collapsed": false
   },
   "outputs": [
    {
     "name": "stdout",
     "output_type": "stream",
     "text": [
      "Post id 10000 was not found\n"
     ]
    }
   ],
   "source": [
    "update_post(10000, post_content)"
   ]
  },
  {
   "cell_type": "code",
   "execution_count": null,
   "metadata": {
    "collapsed": true
   },
   "outputs": [],
   "source": []
  }
 ],
 "metadata": {
  "kernelspec": {
   "display_name": "Python 2",
   "language": "python",
   "name": "python2"
  },
  "language_info": {
   "codemirror_mode": {
    "name": "ipython",
    "version": 2
   },
   "file_extension": ".py",
   "mimetype": "text/x-python",
   "name": "python",
   "nbconvert_exporter": "python",
   "pygments_lexer": "ipython2",
   "version": "2.7.10"
  }
 },
 "nbformat": 4,
 "nbformat_minor": 0
}
